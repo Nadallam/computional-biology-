{
 "cells": [
  {
   "cell_type": "code",
   "execution_count": 1,
   "id": "68d6cfd4",
   "metadata": {},
   "outputs": [],
   "source": [
    "import cobra"
   ]
  },
  {
   "cell_type": "code",
   "execution_count": 2,
   "id": "7145cf62",
   "metadata": {},
   "outputs": [],
   "source": [
    "from cobra import Model , Reaction , Metabolite"
   ]
  },
  {
   "cell_type": "code",
   "execution_count": 3,
   "id": "306d48ae",
   "metadata": {},
   "outputs": [],
   "source": [
    "model1= Model('MODEL1')"
   ]
  },
  {
   "cell_type": "code",
   "execution_count": 4,
   "id": "12353b2c",
   "metadata": {},
   "outputs": [],
   "source": [
    "##REACTIONS \n",
    "\n",
    "###### Raction 0 : =====> A ###################################\n",
    "\n",
    "react0=Reaction('react0')\n",
    "react0.name='react0'\n",
    "react0.lower_bound=1\n",
    "react0.upper_bound=1\n",
    "###### Reaction 1 : A=====> B ###################################\n",
    "\n",
    "react1=Reaction('react1')\n",
    "react1.name='react1'\n",
    "react1.lower_bound=0\n",
    "react1.upper_bound=1000\n",
    "\n",
    "###### Reaction 2 : B=====> c ###################################\n",
    "\n",
    "react2=Reaction('react2')\n",
    "react2.name='react2'\n",
    "react2.lower_bound=0\n",
    "react2.upper_bound=1000\n",
    "\n",
    "###### ATP Reaction  : A=====> ATP ###################################\n",
    "\n",
    "ATP_R=Reaction('ATP_R')\n",
    "ATP_R.name='ATP_R'\n",
    "ATP_R.lower_bound=0\n",
    "ATP_R.upper_bound=1000\n",
    "\n",
    "\n",
    "###### Reaction 3 : ATP=====> ###################################\n",
    "\n",
    "react3=Reaction('react3')\n",
    "ATP_R.name='react3'\n",
    "ATP_R.lower_bound=0.9\n",
    "ATP_R.upper_bound=0.9\n",
    "\n",
    "\n",
    "\n",
    "###### Reaction M : C=====>  ###################################\n",
    "\n",
    "M=Reaction('M')\n",
    "M.name='M'\n",
    "M.lower_bound=0\n",
    "M.upper_bound=1000\n",
    "\n",
    "\n",
    "\n"
   ]
  },
  {
   "cell_type": "code",
   "execution_count": 5,
   "id": "9e94a023",
   "metadata": {},
   "outputs": [],
   "source": [
    "### DEFINIG METABOLITES \n",
    "##################################3\n",
    "A= Metabolite('A',compartment='c')\n",
    "B=Metabolite('B',compartment='c')\n",
    "C= Metabolite('C',compartment='c')\n",
    "ATP= Metabolite('ATP',compartment='c')"
   ]
  },
  {
   "cell_type": "code",
   "execution_count": 6,
   "id": "813e90f6",
   "metadata": {},
   "outputs": [],
   "source": [
    "####### ADDING METABOLITES####################\n",
    "####################################################\n",
    "\n",
    "\n",
    "###### Add metabolites in reaction react1 ###################################\n",
    "\n",
    "\n",
    "react1.add_metabolites({A:-1,B:1})\n",
    "\n",
    "###### Add metabolites in reaction react2 ###################################\n",
    "\n",
    "react2.add_metabolites({B:-1,C:1})\n",
    "\n",
    "\n",
    "###### Add metabolites in reaction react0 ###################################\n",
    "\n",
    "react0.add_metabolites({A:1})\n",
    "\n",
    "\n",
    "###### Add metabolites in reaction M ###################################\n",
    "\n",
    "M.add_metabolites({C:-1})\n",
    "\n",
    "###### Add metabolites in reaction ATP_R ###################################\n",
    "\n",
    "ATP_R.add_metabolites({A:-1,ATP:1})\n",
    "\n",
    "\n",
    "###### Add metabolites in reaction react3 ###################################\n",
    "\n",
    "react3.add_metabolites({ATP:-1})"
   ]
  },
  {
   "cell_type": "code",
   "execution_count": 7,
   "id": "68d74b32",
   "metadata": {},
   "outputs": [],
   "source": [
    "###### Add reactions in model  ###################################\n",
    "\n",
    "model1.add_reactions([react0,react1,react2,react3,M ,ATP_R])"
   ]
  },
  {
   "cell_type": "code",
   "execution_count": 8,
   "id": "d5fd642e",
   "metadata": {},
   "outputs": [],
   "source": [
    "###### Put M as a objective function  ###################################\n",
    "\n",
    "model1.objective = 'M'"
   ]
  },
  {
   "cell_type": "code",
   "execution_count": 9,
   "id": "68c88682",
   "metadata": {},
   "outputs": [
    {
     "data": {
      "text/html": [
       "<strong><em>Optimal</em> solution with objective value 0.100</strong><br><div>\n",
       "<style scoped>\n",
       "    .dataframe tbody tr th:only-of-type {\n",
       "        vertical-align: middle;\n",
       "    }\n",
       "\n",
       "    .dataframe tbody tr th {\n",
       "        vertical-align: top;\n",
       "    }\n",
       "\n",
       "    .dataframe thead th {\n",
       "        text-align: right;\n",
       "    }\n",
       "</style>\n",
       "<table border=\"1\" class=\"dataframe\">\n",
       "  <thead>\n",
       "    <tr style=\"text-align: right;\">\n",
       "      <th></th>\n",
       "      <th>fluxes</th>\n",
       "      <th>reduced_costs</th>\n",
       "    </tr>\n",
       "  </thead>\n",
       "  <tbody>\n",
       "    <tr>\n",
       "      <th>react0</th>\n",
       "      <td>1.0</td>\n",
       "      <td>2.0</td>\n",
       "    </tr>\n",
       "    <tr>\n",
       "      <th>react1</th>\n",
       "      <td>0.1</td>\n",
       "      <td>0.0</td>\n",
       "    </tr>\n",
       "    <tr>\n",
       "      <th>react2</th>\n",
       "      <td>0.1</td>\n",
       "      <td>0.0</td>\n",
       "    </tr>\n",
       "    <tr>\n",
       "      <th>react3</th>\n",
       "      <td>0.9</td>\n",
       "      <td>0.0</td>\n",
       "    </tr>\n",
       "    <tr>\n",
       "      <th>M</th>\n",
       "      <td>0.1</td>\n",
       "      <td>0.0</td>\n",
       "    </tr>\n",
       "    <tr>\n",
       "      <th>ATP_R</th>\n",
       "      <td>0.9</td>\n",
       "      <td>-2.0</td>\n",
       "    </tr>\n",
       "  </tbody>\n",
       "</table>\n",
       "</div>"
      ],
      "text/plain": [
       "<Solution 0.100 at 0x1d603fc4640>"
      ]
     },
     "execution_count": 9,
     "metadata": {},
     "output_type": "execute_result"
    }
   ],
   "source": [
    "model1.optimize()"
   ]
  },
  {
   "cell_type": "code",
   "execution_count": 10,
   "id": "97f8c446",
   "metadata": {},
   "outputs": [
    {
     "data": {
      "text/html": [
       "<h3>Objective</h3><p>1.0 M = 0.09999999999999998</p><h4>Uptake</h4><table border=\"1\" class=\"dataframe\">\n",
       "  <thead>\n",
       "    <tr style=\"text-align: right;\">\n",
       "      <th>Metabolite</th>\n",
       "      <th>Reaction</th>\n",
       "      <th>Flux</th>\n",
       "      <th>C-Number</th>\n",
       "      <th>C-Flux</th>\n",
       "    </tr>\n",
       "  </thead>\n",
       "  <tbody>\n",
       "    <tr>\n",
       "      <td>A</td>\n",
       "      <td>react0</td>\n",
       "      <td>1</td>\n",
       "      <td>0</td>\n",
       "      <td>0.00%</td>\n",
       "    </tr>\n",
       "  </tbody>\n",
       "</table><h4>Secretion</h4><table border=\"1\" class=\"dataframe\">\n",
       "  <thead>\n",
       "    <tr style=\"text-align: right;\">\n",
       "      <th>Metabolite</th>\n",
       "      <th>Reaction</th>\n",
       "      <th>Flux</th>\n",
       "      <th>C-Number</th>\n",
       "      <th>C-Flux</th>\n",
       "    </tr>\n",
       "  </thead>\n",
       "  <tbody>\n",
       "    <tr>\n",
       "      <td>C</td>\n",
       "      <td>M</td>\n",
       "      <td>-0.1</td>\n",
       "      <td>0</td>\n",
       "      <td>0.00%</td>\n",
       "    </tr>\n",
       "    <tr>\n",
       "      <td>ATP</td>\n",
       "      <td>react3</td>\n",
       "      <td>-0.9</td>\n",
       "      <td>0</td>\n",
       "      <td>0.00%</td>\n",
       "    </tr>\n",
       "  </tbody>\n",
       "</table>"
      ],
      "text/plain": [
       "<cobra.summary.model_summary.ModelSummary at 0x1d67c9adb80>"
      ]
     },
     "execution_count": 10,
     "metadata": {},
     "output_type": "execute_result"
    }
   ],
   "source": [
    "model1.summary()"
   ]
  },
  {
   "cell_type": "code",
   "execution_count": null,
   "id": "61d929c8",
   "metadata": {},
   "outputs": [],
   "source": []
  }
 ],
 "metadata": {
  "kernelspec": {
   "display_name": "Python 3 (ipykernel)",
   "language": "python",
   "name": "python3"
  },
  "language_info": {
   "codemirror_mode": {
    "name": "ipython",
    "version": 3
   },
   "file_extension": ".py",
   "mimetype": "text/x-python",
   "name": "python",
   "nbconvert_exporter": "python",
   "pygments_lexer": "ipython3",
   "version": "3.9.7"
  }
 },
 "nbformat": 4,
 "nbformat_minor": 5
}
